{
 "cells": [
  {
   "cell_type": "code",
   "execution_count": 2,
   "metadata": {},
   "outputs": [],
   "source": [
    "from pyspark.sql import SparkSession\n",
    "from pyspark import SparkConf\n",
    "conf = SparkConf()\n",
    "conf.set(\"spark.driver.extraJavaOptions\", \"-Dio.netty.tryReflectionSetAccessible=true\")\n",
    "conf.set(\"spark.executor.extraJavaOptions\", \"-Dio.netty.tryReflectionSetAccessible=true\")\n",
    "spark = SparkSession.builder.config(conf=conf).getOrCreate()"
   ]
  },
  {
   "cell_type": "code",
   "execution_count": 3,
   "metadata": {},
   "outputs": [],
   "source": [
    "folderPath = r'C:\\Users\\102222\\Downloads\\paytm-weather-challenge\\paytmteam-de-weather-challenge-beb4fc53605c'"
   ]
  },
  {
   "cell_type": "code",
   "execution_count": 4,
   "metadata": {},
   "outputs": [],
   "source": [
    "data = spark.read.option(\"header\",\"true\").csv(folderPath+'/data/2019')"
   ]
  },
  {
   "cell_type": "code",
   "execution_count": 5,
   "metadata": {},
   "outputs": [],
   "source": [
    "country = spark.read.option(\"header\",\"true\").csv(folderPath+'/countrylist.csv')\n",
    "station = spark.read.option(\"header\",\"true\").csv(folderPath+'/stationlist.csv')"
   ]
  },
  {
   "cell_type": "code",
   "execution_count": 6,
   "metadata": {},
   "outputs": [],
   "source": [
    "names = station.join(country,[\"COUNTRY_ABBR\"],\"left_outer\")"
   ]
  },
  {
   "cell_type": "code",
   "execution_count": 7,
   "metadata": {},
   "outputs": [
    {
     "name": "stdout",
     "output_type": "stream",
     "text": [
      "+------------+------+------------+\n",
      "|COUNTRY_ABBR|STN_NO|COUNTRY_FULL|\n",
      "+------------+------+------------+\n",
      "|          MJ|134630|        null|\n",
      "|          TT|973900|        null|\n",
      "|          AE|412180|        null|\n",
      "|          RI|132600|        null|\n",
      "|          MJ|134610|        null|\n",
      "+------------+------+------------+\n",
      "only showing top 5 rows\n",
      "\n"
     ]
    }
   ],
   "source": [
    "from pyspark.sql.functions import *\n",
    "names.filter(col('COUNTRY_FULL').isNull()).show(5)"
   ]
  },
  {
   "cell_type": "code",
   "execution_count": 33,
   "metadata": {},
   "outputs": [],
   "source": [
    "df = data.withColumnRenamed('STN---','STN_NO').join(names,['STN_NO'],'left_outer')"
   ]
  },
  {
   "cell_type": "code",
   "execution_count": 92,
   "metadata": {},
   "outputs": [],
   "source": [
    "data_to_ignore = {\n",
    "    'TEMP' : 9999.9,\n",
    "    'DEWP' : 9999.9,\n",
    "    'SLP' : 9999.9,\n",
    "    'STP' : 9999.9,\n",
    "    'VISIB' : 999.9,\n",
    "    'WDSP' : 999.9,\n",
    "    'MXSPD' : 999.9,\n",
    "    'GUST' : 999.9,\n",
    "    'MAX' : 9999.9,\n",
    "    'MIN' : 9999.9,\n",
    "    'PRCP' : 99.99,\n",
    "    'SNDP' : 999.9,\n",
    "    \n",
    "}"
   ]
  },
  {
   "cell_type": "code",
   "execution_count": 29,
   "metadata": {},
   "outputs": [],
   "source": [
    "def changeToFloat(df):\n",
    "    colstoChange = [*data_to_ignore.keys()]\n",
    "    cols = list(\n",
    "        filter(\n",
    "            None.__ne__,\n",
    "            list(\n",
    "                map(\n",
    "                    lambda name: col(name).cast(FloatType())\n",
    "                    if name in colstoChange\n",
    "                    else col(name),\n",
    "                    df.columns,\n",
    "                )\n",
    "            ),\n",
    "        )\n",
    "    )\n",
    "    return df.select(*cols)"
   ]
  },
  {
   "cell_type": "code",
   "execution_count": 94,
   "metadata": {},
   "outputs": [],
   "source": [
    "df = changeToFloat(df)"
   ]
  },
  {
   "cell_type": "code",
   "execution_count": 45,
   "metadata": {},
   "outputs": [],
   "source": [
    "import pandas as pd\n",
    "from pyspark.sql.functions import pandas_udf\n",
    "from pyspark.sql.types import *\n",
    "\n",
    "@pandas_udf(\"double\")\n",
    "def temp_mean_withRemoving(v: pd.Series) -> float:\n",
    "    return v[v!=data_to_ignore['MAX']].mean()\n",
    "\n",
    "@pandas_udf(\"double\")\n",
    "def temp_mean(v: pd.Series) -> float:\n",
    "    return v.mean()"
   ]
  },
  {
   "cell_type": "code",
   "execution_count": 53,
   "metadata": {},
   "outputs": [
    {
     "name": "stdout",
     "output_type": "stream",
     "text": [
      "+-------------+---------------------------+\n",
      "| COUNTRY_FULL|temp_mean_withRemoving(MAX)|\n",
      "+-------------+---------------------------+\n",
      "|        SUDAN|          104.5230712890625|\n",
      "|        NIGER|           97.8834228515625|\n",
      "|      SENEGAL|          97.71339416503906|\n",
      "|         CHAD|          97.24052429199219|\n",
      "|         MALI|           95.4217529296875|\n",
      "|GUINEA-BISSAU|                      93.75|\n",
      "| BURKINA FASO|          93.40684509277344|\n",
      "|         TOGO|          92.59318542480469|\n",
      "|     THAILAND|          92.33601379394531|\n",
      "|  GAMBIA  THE|          92.22368621826172|\n",
      "|  EL SALVADOR|          92.19072723388672|\n",
      "|       PANAMA|          92.05693817138672|\n",
      "|        BENIN|           92.0526123046875|\n",
      "|       KUWAIT|           91.5665054321289|\n",
      "|        HAITI|          91.39999389648438|\n",
      "| SAUDI ARABIA|           91.2256851196289|\n",
      "|      NIGERIA|          91.15251159667969|\n",
      "|        GHANA|          90.84201049804688|\n",
      "|         OMAN|          90.56419372558594|\n",
      "|      JAMAICA|          90.51072692871094|\n",
      "+-------------+---------------------------+\n",
      "only showing top 20 rows\n",
      "\n"
     ]
    }
   ],
   "source": [
    "df.groupby(col('COUNTRY_FULL')).agg(temp_mean_withRemoving(df['MAX']))\\\n",
    ".orderBy(col('temp_mean_withRemoving(MAX)').desc()).show()"
   ]
  },
  {
   "cell_type": "code",
   "execution_count": 47,
   "metadata": {},
   "outputs": [
    {
     "name": "stdout",
     "output_type": "stream",
     "text": [
      "+--------------------+------------------+\n",
      "|        COUNTRY_FULL|    temp_mean(MAX)|\n",
      "+--------------------+------------------+\n",
      "|             ARMENIA|    63.87255859375|\n",
      "|        SOUTH AFRICA| 86.85189819335938|\n",
      "|               BURMA|  91.1471939086914|\n",
      "|            CAMBODIA|              null|\n",
      "|          BANGLADESH| 89.19732666015625|\n",
      "|               JAPAN| 72.23062896728516|\n",
      "|              UGANDA|102.84613800048828|\n",
      "|SOUTH GEORGIA AND...| 39.22018051147461|\n",
      "|          CAPE VERDE| 85.16928100585938|\n",
      "|NORTHERN MARIANA ...| 87.91114807128906|\n",
      "|FALKLAND ISLANDS ...| 289.8817443847656|\n",
      "|          MAURITANIA|              null|\n",
      "|              JERSEY|  59.3869514465332|\n",
      "|            MALDIVES| 88.69937133789062|\n",
      "|SAO TOME AND PRIN...|    9999.900390625|\n",
      "|            TANZANIA| 87.91410064697266|\n",
      "|              JORDAN| 80.31826782226562|\n",
      "|             MAYOTTE|  87.7521743774414|\n",
      "|        MAN  ISLE OF| 56.83333206176758|\n",
      "|             LESOTHO|              null|\n",
      "+--------------------+------------------+\n",
      "only showing top 20 rows\n",
      "\n"
     ]
    }
   ],
   "source": [
    "df.groupby(col('COUNTRY_FULL')).agg(temp_mean(df['MAX'])).show()"
   ]
  },
  {
   "cell_type": "code",
   "execution_count": 49,
   "metadata": {},
   "outputs": [
    {
     "name": "stdout",
     "output_type": "stream",
     "text": [
      "+----+\n",
      "| MAX|\n",
      "+----+\n",
      "|null|\n",
      "|null|\n",
      "|null|\n",
      "|null|\n",
      "|null|\n",
      "|null|\n",
      "|null|\n",
      "|null|\n",
      "|null|\n",
      "|null|\n",
      "|null|\n",
      "|null|\n",
      "|null|\n",
      "|null|\n",
      "|null|\n",
      "|null|\n",
      "|null|\n",
      "|null|\n",
      "|null|\n",
      "|null|\n",
      "+----+\n",
      "only showing top 20 rows\n",
      "\n"
     ]
    }
   ],
   "source": [
    "df.filter(col('COUNTRY_FULL')=='MAURITANIA').select(col('MAX')).show()"
   ]
  },
  {
   "cell_type": "code",
   "execution_count": 54,
   "metadata": {},
   "outputs": [
    {
     "name": "stdout",
     "output_type": "stream",
     "text": [
      "+------------+------+\n",
      "|COUNTRY_FULL|FRSHTT|\n",
      "+------------+------+\n",
      "|      NORWAY|011010|\n",
      "|      NORWAY|010000|\n",
      "|      NORWAY|000000|\n",
      "|      NORWAY|010000|\n",
      "|      NORWAY|010000|\n",
      "|      NORWAY|010000|\n",
      "|      NORWAY|010000|\n",
      "|      NORWAY|010000|\n",
      "|      NORWAY|010000|\n",
      "|      NORWAY|110000|\n",
      "|      NORWAY|010000|\n",
      "|      NORWAY|010000|\n",
      "|      NORWAY|111000|\n",
      "|      NORWAY|011000|\n",
      "|      NORWAY|010000|\n",
      "|      NORWAY|010000|\n",
      "|      NORWAY|011000|\n",
      "|      NORWAY|010000|\n",
      "|      NORWAY|000000|\n",
      "|      NORWAY|010000|\n",
      "+------------+------+\n",
      "only showing top 20 rows\n",
      "\n"
     ]
    }
   ],
   "source": [
    "df.select(col('COUNTRY_FULL'),col('FRSHTT')).show()"
   ]
  },
  {
   "cell_type": "code",
   "execution_count": 69,
   "metadata": {},
   "outputs": [],
   "source": [
    "tornodo = df.select(col('COUNTRY_FULL'),col('YEARMODA'),col('FRSHTT')).withColumn('Tornodo',substring(col('FRSHTT'),-1,1))"
   ]
  },
  {
   "cell_type": "code",
   "execution_count": 70,
   "metadata": {},
   "outputs": [
    {
     "name": "stdout",
     "output_type": "stream",
     "text": [
      "+------------+--------+------+-------+\n",
      "|COUNTRY_FULL|YEARMODA|FRSHTT|Tornodo|\n",
      "+------------+--------+------+-------+\n",
      "|      NORWAY|20190101|011010|      0|\n",
      "|      NORWAY|20190102|010000|      0|\n",
      "|      NORWAY|20190103|000000|      0|\n",
      "|      NORWAY|20190104|010000|      0|\n",
      "|      NORWAY|20190105|010000|      0|\n",
      "|      NORWAY|20190106|010000|      0|\n",
      "|      NORWAY|20190107|010000|      0|\n",
      "|      NORWAY|20190108|010000|      0|\n",
      "|      NORWAY|20190109|010000|      0|\n",
      "|      NORWAY|20190110|110000|      0|\n",
      "|      NORWAY|20190111|010000|      0|\n",
      "|      NORWAY|20190112|010000|      0|\n",
      "|      NORWAY|20190113|111000|      0|\n",
      "|      NORWAY|20190114|011000|      0|\n",
      "|      NORWAY|20190115|010000|      0|\n",
      "|      NORWAY|20190116|010000|      0|\n",
      "|      NORWAY|20190117|011000|      0|\n",
      "|      NORWAY|20190118|010000|      0|\n",
      "|      NORWAY|20190119|000000|      0|\n",
      "|      NORWAY|20190120|010000|      0|\n",
      "+------------+--------+------+-------+\n",
      "only showing top 20 rows\n",
      "\n"
     ]
    }
   ],
   "source": [
    "tornodo.show()"
   ]
  },
  {
   "cell_type": "code",
   "execution_count": 89,
   "metadata": {},
   "outputs": [
    {
     "name": "stdout",
     "output_type": "stream",
     "text": [
      "+--------------------+----------+\n",
      "|        COUNTRY_FULL|sum(valid)|\n",
      "+--------------------+----------+\n",
      "|      CAYMAN ISLANDS|         2|\n",
      "|         BAHAMAS THE|         1|\n",
      "|         WAKE ISLAND|         0|\n",
      "|              JERSEY|         0|\n",
      "|SOUTH GEORGIA AND...|         0|\n",
      "|        MAN  ISLE OF|         0|\n",
      "|             LESOTHO|         0|\n",
      "|FALKLAND ISLANDS ...|         0|\n",
      "|          MAURITANIA|         0|\n",
      "|   EQUATORIAL GUINEA|         0|\n",
      "|          CAPE VERDE|         0|\n",
      "|NORTHERN MARIANA ...|         0|\n",
      "|              JORDAN|         0|\n",
      "|             MAYOTTE|         0|\n",
      "| ANTIGUA AND BARBUDA|         0|\n",
      "|           MAURITIUS|         0|\n",
      "|              KUWAIT|         0|\n",
      "|           LITHUANIA|         0|\n",
      "|            MALDIVES|         0|\n",
      "|SAO TOME AND PRIN...|         0|\n",
      "+--------------------+----------+\n",
      "only showing top 20 rows\n",
      "\n"
     ]
    }
   ],
   "source": [
    "from pyspark.sql import Window\n",
    "\n",
    "windowing = Window.partitionBy(col('COUNTRY_FULL')).orderBy(col('YEARMODA'))\n",
    "\n",
    "tornodo.withColumn('nextDay',lead(col('Tornodo')).over(windowing))\\\n",
    ".withColumn('valid',when(\n",
    "(col('Tornodo') == '1') & (col('nextDay') == '1'),1\n",
    ").otherwise(0))\\\n",
    ".select(col('COUNTRY_FULL'),col('valid'))\\\n",
    ".groupby(col('COUNTRY_FULL')).agg(sum(col('valid'))).orderBy(col('sum(valid)').desc()).show()"
   ]
  },
  {
   "cell_type": "code",
   "execution_count": 96,
   "metadata": {},
   "outputs": [
    {
     "name": "stdout",
     "output_type": "stream",
     "text": [
      "+--------------------+------------------+\n",
      "|        COUNTRY_FULL|   mean_wind(WDSP)|\n",
      "+--------------------+------------------+\n",
      "|FALKLAND ISLANDS ...| 17.87783432006836|\n",
      "|               ARUBA|15.975682258605957|\n",
      "|       FAROE ISLANDS|15.280671119689941|\n",
      "|FRENCH SOUTHERN A...| 14.20372200012207|\n",
      "|            BARBADOS|14.097541809082031|\n",
      "|ST. PIERRE AND MI...|13.907670974731445|\n",
      "|          CAPE VERDE|13.615221977233887|\n",
      "|     TROMELIN ISLAND|13.005277633666992|\n",
      "|          ST. HELENA|12.730517387390137|\n",
      "|          MAURITANIA|12.723465919494629|\n",
      "|          ANTARCTICA|12.275172233581543|\n",
      "|             SOMALIA|12.274880409240723|\n",
      "|COCOS (KEELING) I...|12.054546356201172|\n",
      "|            GUERNSEY| 12.01801872253418|\n",
      "|        MAN  ISLE OF|11.893424034118652|\n",
      "|          MONTSERRAT| 11.80881404876709|\n",
      "|             ICELAND| 11.73477554321289|\n",
      "|      WESTERN SAHARA|11.647546768188477|\n",
      "|           ST. LUCIA|11.575239181518555|\n",
      "|              JERSEY| 11.47726058959961|\n",
      "+--------------------+------------------+\n",
      "only showing top 20 rows\n",
      "\n"
     ]
    }
   ],
   "source": [
    "@pandas_udf(\"double\")\n",
    "def mean_wind(v: pd.Series) -> float:\n",
    "    return v[v!=data_to_ignore['WDSP']].mean()\n",
    "\n",
    "df.groupby(col('COUNTRY_FULL')).agg(mean_wind(df['WDSP']))\\\n",
    ".orderBy(col('mean_wind(WDSP)').desc()).show()"
   ]
  },
  {
   "cell_type": "code",
   "execution_count": 95,
   "metadata": {},
   "outputs": [
    {
     "data": {
      "text/plain": [
       "DataFrame[STN_NO: string, WBAN: string, YEARMODA: string, TEMP: float, DEWP: float, SLP: float, STP: float, VISIB: float, WDSP: float, MXSPD: float, GUST: float, MAX: float, MIN: float, PRCP: float, SNDP: float, FRSHTT: string, COUNTRY_ABBR: string, COUNTRY_FULL: string]"
      ]
     },
     "execution_count": 95,
     "metadata": {},
     "output_type": "execute_result"
    }
   ],
   "source": [
    "df"
   ]
  },
  {
   "cell_type": "code",
   "execution_count": null,
   "metadata": {},
   "outputs": [],
   "source": []
  }
 ],
 "metadata": {
  "kernelspec": {
   "display_name": "Python 3",
   "language": "python",
   "name": "python3"
  },
  "language_info": {
   "codemirror_mode": {
    "name": "ipython",
    "version": 3
   },
   "file_extension": ".py",
   "mimetype": "text/x-python",
   "name": "python",
   "nbconvert_exporter": "python",
   "pygments_lexer": "ipython3",
   "version": "3.8.3"
  }
 },
 "nbformat": 4,
 "nbformat_minor": 4
}
